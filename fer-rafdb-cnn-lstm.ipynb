{
 "cells": [
  {
   "cell_type": "code",
   "execution_count": 1,
   "id": "6e951543",
   "metadata": {
    "_cell_guid": "b1076dfc-b9ad-4769-8c92-a6c4dae69d19",
    "_uuid": "8f2839f25d086af736a60e9eeb907d3b93b6e0e5",
    "papermill": {
     "duration": 0.023138,
     "end_time": "2023-02-27T07:00:37.371414",
     "exception": false,
     "start_time": "2023-02-27T07:00:37.348276",
     "status": "completed"
    },
    "tags": []
   },
   "outputs": [],
   "source": [
    "import numpy as np \n",
    "import pandas as pd "
   ]
  },
  {
   "cell_type": "code",
   "execution_count": 2,
   "id": "07b04db8",
   "metadata": {
    "papermill": {
     "duration": 8.403612,
     "end_time": "2023-02-27T07:00:45.780496",
     "exception": false,
     "start_time": "2023-02-27T07:00:37.376884",
     "status": "completed"
    },
    "tags": []
   },
   "outputs": [],
   "source": [
    "import tensorflow as tf\n",
    "from tensorflow import keras\n",
    "import matplotlib.pyplot as plt\n",
    "import seaborn as sns\n",
    "from sklearn.model_selection import train_test_split\n",
    "from keras.layers import Conv2D, LSTM, Reshape ,Input, BatchNormalization, MaxPooling2D, Activation, Dense, Dropout\n",
    "from keras.models import Sequential\n",
    "from keras.utils import np_utils\n",
    "from sklearn.metrics import classification_report\n",
    "from imblearn.over_sampling import RandomOverSampler\n",
    "from keras.preprocessing import image\n",
    "import scipy\n",
    "import os\n",
    "import cv2\n",
    "from tensorflow.keras.callbacks import ModelCheckpoint"
   ]
  },
  {
   "cell_type": "code",
   "execution_count": 3,
   "id": "7ae2e5f1",
   "metadata": {
    "papermill": {
     "duration": 6.168828,
     "end_time": "2023-02-27T07:00:51.955034",
     "exception": false,
     "start_time": "2023-02-27T07:00:45.786206",
     "status": "completed"
    },
    "tags": []
   },
   "outputs": [],
   "source": [
    "data = pd.read_csv('C:/Users/murat/Desktop/duygu_analizi/fer-rafdb.csv')"
   ]
  },
  {
   "cell_type": "code",
   "execution_count": 6,
   "id": "27cec0eb",
   "metadata": {
    "papermill": {
     "duration": 0.016865,
     "end_time": "2023-02-27T07:00:52.012142",
     "exception": false,
     "start_time": "2023-02-27T07:00:51.995277",
     "status": "completed"
    },
    "tags": []
   },
   "outputs": [],
   "source": [
    "x_data = data['pixels']\n",
    "y_data = data['emotion']"
   ]
  },
  {
   "cell_type": "code",
   "execution_count": 7,
   "id": "1abbb19e",
   "metadata": {
    "papermill": {
     "duration": 0.275055,
     "end_time": "2023-02-27T07:00:52.292673",
     "exception": false,
     "start_time": "2023-02-27T07:00:52.017618",
     "status": "completed"
    },
    "tags": []
   },
   "outputs": [
    {
     "data": {
      "image/png": "[encoded data removed]",
      "text/plain": [
       "<Figure size 640x480 with 1 Axes>"
      ]
     },
     "metadata": {},
     "output_type": "display_data"
    }
   ],
   "source": [
    "sns.set_theme(style=\"darkgrid\")\n",
    "ax = sns.countplot(x=\"emotion\", data=data)"
   ]
  },
  {
   "cell_type": "code",
   "execution_count": 8,
   "id": "a2591b25",
   "metadata": {
    "papermill": {
     "duration": 0.03537,
     "end_time": "2023-02-27T07:00:52.334275",
     "exception": false,
     "start_time": "2023-02-27T07:00:52.298905",
     "status": "completed"
    },
    "tags": []
   },
   "outputs": [
    {
     "name": "stdout",
     "output_type": "stream",
     "text": [
      "(62923, 1)   (62923,)\n"
     ]
    }
   ],
   "source": [
    "oversampler = RandomOverSampler(sampling_strategy='auto')\n",
    "\n",
    "x_data, y_data = oversampler.fit_resample(x_data.values.reshape(-1,1), y_data)\n",
    "print(x_data.shape,\" \",y_data.shape)"
   ]
  },
  {
   "cell_type": "code",
   "execution_count": 9,
   "id": "fbbbedb9",
   "metadata": {
    "papermill": {
     "duration": 0.019729,
     "end_time": "2023-02-27T07:00:52.360443",
     "exception": false,
     "start_time": "2023-02-27T07:00:52.340714",
     "status": "completed"
    },
    "tags": []
   },
   "outputs": [
    {
     "data": {
      "text/plain": [
       "emotion\n",
       "0    8989\n",
       "2    8989\n",
       "4    8989\n",
       "6    8989\n",
       "3    8989\n",
       "5    8989\n",
       "1    8989\n",
       "Name: count, dtype: int64"
      ]
     },
     "execution_count": 9,
     "metadata": {},
     "output_type": "execute_result"
    }
   ],
   "source": [
    "y_data.value_counts()"
   ]
  },
  {
   "cell_type": "code",
   "execution_count": 10,
   "id": "c1c08c12",
   "metadata": {
    "papermill": {
     "duration": 0.020195,
     "end_time": "2023-02-27T07:00:52.386464",
     "exception": false,
     "start_time": "2023-02-27T07:00:52.366269",
     "status": "completed"
    },
    "tags": []
   },
   "outputs": [
    {
     "data": {
      "text/plain": [
       "0        70 80 82 72 58 58 60 63 54 58 60 48 89 115 121...\n",
       "1        151 150 147 155 148 133 111 140 170 174 182 15...\n",
       "2        231 212 156 164 174 138 161 173 182 200 106 38...\n",
       "3        24 32 36 30 32 23 19 20 30 41 21 22 32 34 21 1...\n",
       "4        4 0 0 0 0 0 0 0 0 0 0 0 3 15 23 28 48 50 58 84...\n",
       "                               ...                        \n",
       "62918    208 207 205 206 207 207 210 211 210 207 211 21...\n",
       "62919    124 59 30 34 31 32 34 34 38 38 35 30 27 31 36 ...\n",
       "62920    109 114 103 97 100 79 61 74 82 67 48 62 73 87 ...\n",
       "62921    50 55 68 70 65 65 56 55 62 67 70 82 91 102 116...\n",
       "62922    84 83 79 67 53 46 39 45 46 53 70 79 80 83 99 1...\n",
       "Length: 62923, dtype: object"
      ]
     },
     "execution_count": 10,
     "metadata": {},
     "output_type": "execute_result"
    }
   ],
   "source": [
    "x_data = pd.Series(x_data.flatten())\n",
    "x_data"
   ]
  },
  {
   "cell_type": "code",
   "execution_count": 12,
   "id": "bb92565d",
   "metadata": {
    "papermill": {
     "duration": 32.21007,
     "end_time": "2023-02-27T07:01:24.602788",
     "exception": false,
     "start_time": "2023-02-27T07:00:52.392718",
     "status": "completed"
    },
    "tags": []
   },
   "outputs": [
    {
     "data": {
      "text/plain": [
       "array([[0.27450982, 0.3137255 , 0.32156864, ..., 0.41568628, 0.42745098,\n",
       "        0.32156864],\n",
       "       [0.5921569 , 0.5882353 , 0.5764706 , ..., 0.75686276, 0.7176471 ,\n",
       "        0.72156864],\n",
       "       [0.90588236, 0.83137256, 0.6117647 , ..., 0.34509805, 0.43137255,\n",
       "        0.59607846],\n",
       "       ...,\n",
       "       [0.3019608 , 0.30588236, 0.30980393, ..., 0.49019608, 0.2627451 ,\n",
       "        0.26666668],\n",
       "       [0.33333334, 0.32941177, 0.3529412 , ..., 0.22745098, 0.28627452,\n",
       "        0.32941177],\n",
       "       [1.        , 0.99607843, 1.        , ..., 0.99607843, 1.        ,\n",
       "        1.        ]], dtype=float32)"
      ]
     },
     "execution_count": 12,
     "metadata": {},
     "output_type": "execute_result"
    }
   ],
   "source": [
    "x_data = np.array(list(map(str.split, x_data)), np.float32)\n",
    "x_data/=255\n",
    "x_data[:10]"
   ]
  },
  {
   "cell_type": "code",
   "execution_count": 13,
   "id": "9b28dc5e",
   "metadata": {
    "papermill": {
     "duration": 0.041979,
     "end_time": "2023-02-27T07:01:24.662428",
     "exception": false,
     "start_time": "2023-02-27T07:01:24.620449",
     "status": "completed"
    },
    "tags": []
   },
   "outputs": [
    {
     "data": {
      "text/plain": [
       "(62923, 48, 48, 1)"
      ]
     },
     "execution_count": 13,
     "metadata": {},
     "output_type": "execute_result"
    }
   ],
   "source": [
    "x_data = x_data.reshape(-1, 48, 48, 1)\n",
    "x_data.shape"
   ]
  },
  {
   "cell_type": "code",
   "execution_count": 14,
   "id": "8845152b",
   "metadata": {
    "papermill": {
     "duration": 0.040572,
     "end_time": "2023-02-27T07:01:24.721297",
     "exception": false,
     "start_time": "2023-02-27T07:01:24.680725",
     "status": "completed"
    },
    "tags": []
   },
   "outputs": [
    {
     "data": {
      "text/plain": [
       "(62923, 1)"
      ]
     },
     "execution_count": 14,
     "metadata": {},
     "output_type": "execute_result"
    }
   ],
   "source": [
    "y_data = np.array(y_data)\n",
    "y_data = y_data.reshape(y_data.shape[0], 1)\n",
    "y_data.shape"
   ]
  },
  {
   "cell_type": "code",
   "execution_count": 22,
   "id": "b3e5026a",
   "metadata": {
    "papermill": {
     "duration": 0.153675,
     "end_time": "2023-02-27T07:01:24.892471",
     "exception": false,
     "start_time": "2023-02-27T07:01:24.738796",
     "status": "completed"
    },
    "tags": []
   },
   "outputs": [],
   "source": [
    "x_train, x_test, y_train, y_test = train_test_split(x_data, y_data, test_size = 0.1, random_state = 45)"
   ]
  },
  {
   "cell_type": "code",
   "execution_count": 23,
   "id": "dffcbcbf",
   "metadata": {
    "papermill": {
     "duration": 3.768793,
     "end_time": "2023-02-27T07:01:28.667894",
     "exception": false,
     "start_time": "2023-02-27T07:01:24.899101",
     "status": "completed"
    },
    "tags": []
   },
   "outputs": [
    {
     "name": "stdout",
     "output_type": "stream",
     "text": [
      "Model: \"sequential\"\n",
      "_________________________________________________________________\n",
      " Layer (type)                Output Shape              Param #   \n",
      "=================================================================\n",
      " conv2d (Conv2D)             (None, 46, 46, 32)        320       \n",
      "                                                                 \n",
      " batch_normalization (BatchN  (None, 46, 46, 32)       128       \n",
      " ormalization)                                                   \n",
      "                                                                 \n",
      " activation (Activation)     (None, 46, 46, 32)        0         \n",
      "                                                                 \n",
      " conv2d_1 (Conv2D)           (None, 46, 46, 64)        18496     \n",
      "                                                                 \n",
      " batch_normalization_1 (Batc  (None, 46, 46, 64)       256       \n",
      " hNormalization)                                                 \n",
      "                                                                 \n",
      " activation_1 (Activation)   (None, 46, 46, 64)        0         \n",
      "                                                                 \n",
      " max_pooling2d (MaxPooling2D  (None, 23, 23, 64)       0         \n",
      " )                                                               \n",
      "                                                                 \n",
      " conv2d_2 (Conv2D)           (None, 21, 21, 64)        36928     \n",
      "                                                                 \n",
      " batch_normalization_2 (Batc  (None, 21, 21, 64)       256       \n",
      " hNormalization)                                                 \n",
      "                                                                 \n",
      " activation_2 (Activation)   (None, 21, 21, 64)        0         \n",
      "                                                                 \n",
      " conv2d_3 (Conv2D)           (None, 21, 21, 128)       73856     \n",
      "                                                                 \n",
      " batch_normalization_3 (Batc  (None, 21, 21, 128)      512       \n",
      " hNormalization)                                                 \n",
      "                                                                 \n",
      " activation_3 (Activation)   (None, 21, 21, 128)       0         \n",
      "                                                                 \n",
      " max_pooling2d_1 (MaxPooling  (None, 10, 10, 128)      0         \n",
      " 2D)                                                             \n",
      "                                                                 \n",
      " conv2d_4 (Conv2D)           (None, 8, 8, 128)         147584    \n",
      "                                                                 \n",
      " batch_normalization_4 (Batc  (None, 8, 8, 128)        512       \n",
      " hNormalization)                                                 \n",
      "                                                                 \n",
      " activation_4 (Activation)   (None, 8, 8, 128)         0         \n",
      "                                                                 \n",
      " max_pooling2d_2 (MaxPooling  (None, 4, 4, 128)        0         \n",
      " 2D)                                                             \n",
      "                                                                 \n",
      " reshape (Reshape)           (None, 16, 128)           0         \n",
      "                                                                 \n",
      " lstm (LSTM)                 (None, 128)               131584    \n",
      "                                                                 \n",
      " reshape_1 (Reshape)         (None, 2, 64)             0         \n",
      "                                                                 \n",
      " lstm_1 (LSTM)               (None, 64)                33024     \n",
      "                                                                 \n",
      " dense (Dense)               (None, 200)               13000     \n",
      "                                                                 \n",
      " dropout (Dropout)           (None, 200)               0         \n",
      "                                                                 \n",
      " dense_1 (Dense)             (None, 7)                 1407      \n",
      "                                                                 \n",
      "=================================================================\n",
      "Total params: 457,863\n",
      "Trainable params: 457,031\n",
      "Non-trainable params: 832\n",
      "_________________________________________________________________\n"
     ]
    }
   ],
   "source": [
    "model = Sequential([\n",
    "    Input((48, 48, 1)),\n",
    "    Conv2D(32, kernel_size=(3,3), strides=(1,1), padding='valid'),\n",
    "    BatchNormalization(axis=3),\n",
    "    Activation('relu'),\n",
    "    Conv2D(64, (3,3), strides=(1,1), padding = 'same'),\n",
    "    BatchNormalization(axis=3),\n",
    "    Activation('relu'),\n",
    "    MaxPooling2D((2,2)),\n",
    "    Conv2D(64, (3,3), strides=(1,1), padding = 'valid'),\n",
    "    BatchNormalization(axis=3),\n",
    "    Activation('relu'),\n",
    "    Conv2D(128, (3,3), strides=(1,1), padding = 'same'),\n",
    "    BatchNormalization(axis=3),\n",
    "    Activation('relu'),\n",
    "    MaxPooling2D((2,2)),\n",
    "    Conv2D(128, (3,3), strides=(1,1), padding = 'valid'),\n",
    "    BatchNormalization(axis=3),\n",
    "    Activation('relu'),\n",
    "    MaxPooling2D((2,2)),\n",
    "    Reshape((-1,128)),\n",
    "    (LSTM(128)),\n",
    "    (Reshape((-1,64))),\n",
    "    LSTM(64),\n",
    "#     (Reshape((-1,64)))\n",
    "#     (LSTM(32))    \n",
    "    Dense(200, activation='relu'),\n",
    "    Dropout(0.6),\n",
    "    Dense(7, activation = 'softmax')\n",
    "])\n",
    "model.summary()"
   ]
  },
  {
   "cell_type": "code",
   "execution_count": 24,
   "id": "1bc63deb",
   "metadata": {
    "papermill": {
     "duration": 0.521098,
     "end_time": "2023-02-27T07:01:29.199038",
     "exception": false,
     "start_time": "2023-02-27T07:01:28.677940",
     "status": "completed"
    },
    "tags": []
   },
   "outputs": [
    {
     "name": "stdout",
     "output_type": "stream",
     "text": [
      "You must install pydot (`pip install pydot`) and install graphviz (see instructions at https://graphviz.gitlab.io/download/) for plot_model to work.\n"
     ]
    }
   ],
   "source": [
    "tf.keras.utils.plot_model(model, to_file = \"model.png\", show_shapes = True, show_dtype = True)"
   ]
  },
  {
   "cell_type": "code",
   "execution_count": 25,
   "id": "bd70565f",
   "metadata": {
    "papermill": {
     "duration": 0.039031,
     "end_time": "2023-02-27T07:01:29.252014",
     "exception": false,
     "start_time": "2023-02-27T07:01:29.212983",
     "status": "completed"
    },
    "tags": []
   },
   "outputs": [],
   "source": [
    "from tensorflow.keras.optimizers import SGD\n",
    "from tensorflow.keras.callbacks import ModelCheckpoint, ReduceLROnPlateau\n",
    "\n",
    "# SGD optimizer ile başlangıç öğrenme oranı belirleniyor\n",
    "optimizer = SGD(learning_rate=0.0005, momentum=0.9, nesterov=True)\n",
    "\n",
    "# ModelCheckpoint callback'i\n",
    "checkpoint = ModelCheckpoint(\n",
    "    filepath='C:/Users/murat/Desktop/duygu_analizi/best_model_2.h5',      # En iyi modeli kaydetmek için dosya yolu\n",
    "    monitor='val_accuracy',        # Doğrulama doğruluğunu izler\n",
    "    save_best_only=True,           # Sadece en iyi modeli kaydeder\n",
    "    mode='max',                    # Maksimum doğruluk hedeflenir\n",
    "    verbose=1\n",
    ")\n",
    "\n",
    "# ReduceLROnPlateau callback'i\n",
    "reduce_lr = ReduceLROnPlateau(\n",
    "    monitor='val_loss',            # Doğrulama kaybını izler\n",
    "    factor=0.5,                    # Öğrenme oranını yarıya indirir\n",
    "    patience=5,                    # 5 epoch boyunca iyileşme olmazsa devreye girer\n",
    "    min_lr=1e-6,                   # Minimum öğrenme oranı\n",
    "    verbose=1\n",
    ")\n",
    "# Modelin derlenmesi\n",
    "model.compile(optimizer=optimizer, loss='categorical_crossentropy', metrics=['accuracy'])"
   ]
  },
  {
   "cell_type": "code",
   "execution_count": 26,
   "id": "3009f984",
   "metadata": {
    "papermill": {
     "duration": 0.025785,
     "end_time": "2023-02-27T07:01:29.291529",
     "exception": false,
     "start_time": "2023-02-27T07:01:29.265744",
     "status": "completed"
    },
    "tags": []
   },
   "outputs": [
    {
     "data": {
      "text/plain": [
       "(56630, 7)"
      ]
     },
     "execution_count": 26,
     "metadata": {},
     "output_type": "execute_result"
    }
   ],
   "source": [
    "y_train = np_utils.to_categorical(y_train, 7)\n",
    "y_train.shape"
   ]
  },
  {
   "cell_type": "code",
   "execution_count": 27,
   "id": "d70def9a",
   "metadata": {
    "papermill": {
     "duration": 0.024632,
     "end_time": "2023-02-27T07:01:29.329951",
     "exception": false,
     "start_time": "2023-02-27T07:01:29.305319",
     "status": "completed"
    },
    "tags": []
   },
   "outputs": [
    {
     "data": {
      "text/plain": [
       "(6293, 7)"
      ]
     },
     "execution_count": 27,
     "metadata": {},
     "output_type": "execute_result"
    }
   ],
   "source": [
    "y_test = np_utils.to_categorical(y_test, 7)\n",
    "y_test.shape"
   ]
  },
  {
   "cell_type": "code",
   "execution_count": 37,
   "id": "29641731",
   "metadata": {
    "papermill": {
     "duration": 2228.76354,
     "end_time": "2023-02-27T07:38:38.106951",
     "exception": false,
     "start_time": "2023-02-27T07:01:29.343411",
     "status": "completed"
    },
    "tags": []
   },
   "outputs": [
    {
     "name": "stdout",
     "output_type": "stream",
     "text": [
      "Epoch 1/100\n",
      "1770/1770 [==============================] - ETA: 0s - loss: 1.5793 - accuracy: 0.3750\n",
      "Epoch 1: val_accuracy improved from -inf to 0.45622, saving model to C:/Users/murat/Desktop/duygu_analizi\\best_model_2.h5\n",
      "1770/1770 [==============================] - 329s 184ms/step - loss: 1.5793 - accuracy: 0.3750 - val_loss: 1.4012 - val_accuracy: 0.4562 - lr: 0.0100\n",
      "Epoch 2/100\n",
      "1770/1770 [==============================] - ETA: 0s - loss: 1.1505 - accuracy: 0.5525\n",
      "Epoch 2: val_accuracy improved from 0.45622 to 0.55665, saving model to C:/Users/murat/Desktop/duygu_analizi\\best_model_2.h5\n",
      "1770/1770 [==============================] - 313s 177ms/step - loss: 1.1505 - accuracy: 0.5525 - val_loss: 1.1389 - val_accuracy: 0.5567 - lr: 0.0100\n",
      "Epoch 3/100\n",
      "1770/1770 [==============================] - ETA: 0s - loss: 0.9951 - accuracy: 0.6170\n",
      "Epoch 3: val_accuracy improved from 0.55665 to 0.60861, saving model to C:/Users/murat/Desktop/duygu_analizi\\best_model_2.h5\n",
      "1770/1770 [==============================] - 309s 175ms/step - loss: 0.9951 - accuracy: 0.6170 - val_loss: 1.0390 - val_accuracy: 0.6086 - lr: 0.0100\n",
      "Epoch 4/100\n",
      "1770/1770 [==============================] - ETA: 0s - loss: 0.8881 - accuracy: 0.6635\n",
      "Epoch 4: val_accuracy did not improve from 0.60861\n",
      "1770/1770 [==============================] - 309s 174ms/step - loss: 0.8881 - accuracy: 0.6635 - val_loss: 1.0472 - val_accuracy: 0.6026 - lr: 0.0100\n",
      "Epoch 5/100\n",
      "1770/1770 [==============================] - ETA: 0s - loss: 0.7942 - accuracy: 0.7033\n",
      "Epoch 5: val_accuracy improved from 0.60861 to 0.66518, saving model to C:/Users/murat/Desktop/duygu_analizi\\best_model_2.h5\n",
      "1770/1770 [==============================] - 309s 175ms/step - loss: 0.7942 - accuracy: 0.7033 - val_loss: 0.8979 - val_accuracy: 0.6652 - lr: 0.0100\n",
      "Epoch 6/100\n",
      "1770/1770 [==============================] - ETA: 0s - loss: 0.7012 - accuracy: 0.7457\n",
      "Epoch 6: val_accuracy did not improve from 0.66518\n",
      "1770/1770 [==============================] - 312s 176ms/step - loss: 0.7012 - accuracy: 0.7457 - val_loss: 0.9560 - val_accuracy: 0.6491 - lr: 0.0100\n",
      "Epoch 7/100\n",
      "1770/1770 [==============================] - ETA: 0s - loss: 0.6189 - accuracy: 0.7796\n",
      "Epoch 7: val_accuracy did not improve from 0.66518\n",
      "1770/1770 [==============================] - 312s 176ms/step - loss: 0.6189 - accuracy: 0.7796 - val_loss: 1.0758 - val_accuracy: 0.6178 - lr: 0.0100\n",
      "Epoch 8/100\n",
      "1770/1770 [==============================] - ETA: 0s - loss: 0.5400 - accuracy: 0.8109\n",
      "Epoch 8: val_accuracy improved from 0.66518 to 0.69712, saving model to C:/Users/murat/Desktop/duygu_analizi\\best_model_2.h5\n",
      "1770/1770 [==============================] - 310s 175ms/step - loss: 0.5400 - accuracy: 0.8109 - val_loss: 0.8760 - val_accuracy: 0.6971 - lr: 0.0100\n",
      "Epoch 9/100\n",
      "1770/1770 [==============================] - ETA: 0s - loss: 0.4648 - accuracy: 0.8419\n",
      "Epoch 9: val_accuracy improved from 0.69712 to 0.74527, saving model to C:/Users/murat/Desktop/duygu_analizi\\best_model_2.h5\n",
      "1770/1770 [==============================] - 311s 176ms/step - loss: 0.4648 - accuracy: 0.8419 - val_loss: 0.7564 - val_accuracy: 0.7453 - lr: 0.0100\n",
      "Epoch 10/100\n",
      "1770/1770 [==============================] - ETA: 0s - loss: 0.4093 - accuracy: 0.8625\n",
      "Epoch 10: val_accuracy improved from 0.74527 to 0.77117, saving model to C:/Users/murat/Desktop/duygu_analizi\\best_model_2.h5\n",
      "1770/1770 [==============================] - 310s 175ms/step - loss: 0.4093 - accuracy: 0.8625 - val_loss: 0.7383 - val_accuracy: 0.7712 - lr: 0.0100\n",
      "Epoch 11/100\n",
      "1770/1770 [==============================] - ETA: 0s - loss: 0.3533 - accuracy: 0.8829\n",
      "Epoch 11: val_accuracy did not improve from 0.77117\n",
      "1770/1770 [==============================] - 309s 175ms/step - loss: 0.3533 - accuracy: 0.8829 - val_loss: 0.7781 - val_accuracy: 0.7618 - lr: 0.0100\n",
      "Epoch 12/100\n",
      "1770/1770 [==============================] - ETA: 0s - loss: 0.3013 - accuracy: 0.9000\n",
      "Epoch 12: val_accuracy did not improve from 0.77117\n",
      "1770/1770 [==============================] - 308s 174ms/step - loss: 0.3013 - accuracy: 0.9000 - val_loss: 0.7891 - val_accuracy: 0.7593 - lr: 0.0100\n",
      "Epoch 13/100\n",
      "1770/1770 [==============================] - ETA: 0s - loss: 0.2683 - accuracy: 0.9136\n",
      "Epoch 13: val_accuracy improved from 0.77117 to 0.78929, saving model to C:/Users/murat/Desktop/duygu_analizi\\best_model_2.h5\n",
      "1770/1770 [==============================] - 307s 173ms/step - loss: 0.2683 - accuracy: 0.9136 - val_loss: 0.7371 - val_accuracy: 0.7893 - lr: 0.0100\n",
      "Epoch 14/100\n",
      "1770/1770 [==============================] - ETA: 0s - loss: 0.2350 - accuracy: 0.9225\n",
      "Epoch 14: val_accuracy improved from 0.78929 to 0.80073, saving model to C:/Users/murat/Desktop/duygu_analizi\\best_model_2.h5\n",
      "1770/1770 [==============================] - 306s 173ms/step - loss: 0.2350 - accuracy: 0.9225 - val_loss: 0.7437 - val_accuracy: 0.8007 - lr: 0.0100\n",
      "Epoch 15/100\n",
      "1770/1770 [==============================] - ETA: 0s - loss: 0.1974 - accuracy: 0.9364\n",
      "Epoch 15: val_accuracy did not improve from 0.80073\n",
      "1770/1770 [==============================] - 307s 174ms/step - loss: 0.1974 - accuracy: 0.9364 - val_loss: 0.8433 - val_accuracy: 0.7744 - lr: 0.0100\n",
      "Epoch 16/100\n",
      "1770/1770 [==============================] - ETA: 0s - loss: 0.1835 - accuracy: 0.9405\n",
      "Epoch 16: val_accuracy improved from 0.80073 to 0.80915, saving model to C:/Users/murat/Desktop/duygu_analizi\\best_model_2.h5\n",
      "1770/1770 [==============================] - 307s 173ms/step - loss: 0.1835 - accuracy: 0.9405 - val_loss: 0.7569 - val_accuracy: 0.8092 - lr: 0.0100\n",
      "Epoch 17/100\n",
      "1770/1770 [==============================] - ETA: 0s - loss: 0.1575 - accuracy: 0.9498\n",
      "Epoch 17: val_accuracy did not improve from 0.80915\n",
      "1770/1770 [==============================] - 308s 174ms/step - loss: 0.1575 - accuracy: 0.9498 - val_loss: 0.7984 - val_accuracy: 0.8069 - lr: 0.0100\n",
      "Epoch 18/100\n",
      "1770/1770 [==============================] - ETA: 0s - loss: 0.1439 - accuracy: 0.9543\n",
      "Epoch 18: val_accuracy did not improve from 0.80915\n",
      "\n",
      "Epoch 18: ReduceLROnPlateau reducing learning rate to 0.004999999888241291.\n",
      "1770/1770 [==============================] - 309s 175ms/step - loss: 0.1439 - accuracy: 0.9543 - val_loss: 0.8309 - val_accuracy: 0.7960 - lr: 0.0100\n",
      "Epoch 19/100\n",
      "1770/1770 [==============================] - ETA: 0s - loss: 0.0615 - accuracy: 0.9820\n",
      "Epoch 19: val_accuracy improved from 0.80915 to 0.84967, saving model to C:/Users/murat/Desktop/duygu_analizi\\best_model_2.h5\n",
      "1770/1770 [==============================] - 308s 174ms/step - loss: 0.0615 - accuracy: 0.9820 - val_loss: 0.8275 - val_accuracy: 0.8497 - lr: 0.0050\n",
      "Epoch 20/100\n",
      "1770/1770 [==============================] - ETA: 0s - loss: 0.0306 - accuracy: 0.9921\n",
      "Epoch 20: val_accuracy did not improve from 0.84967\n",
      "1770/1770 [==============================] - 308s 174ms/step - loss: 0.0306 - accuracy: 0.9921 - val_loss: 0.9154 - val_accuracy: 0.8482 - lr: 0.0050\n",
      "Epoch 21/100\n",
      "1770/1770 [==============================] - ETA: 0s - loss: 0.0229 - accuracy: 0.9943\n",
      "Epoch 21: val_accuracy improved from 0.84967 to 0.85492, saving model to C:/Users/murat/Desktop/duygu_analizi\\best_model_2.h5\n",
      "1770/1770 [==============================] - 311s 176ms/step - loss: 0.0229 - accuracy: 0.9943 - val_loss: 0.9246 - val_accuracy: 0.8549 - lr: 0.0050\n",
      "Epoch 22/100\n",
      "1770/1770 [==============================] - ETA: 0s - loss: 0.0190 - accuracy: 0.9952\n",
      "Epoch 22: val_accuracy did not improve from 0.85492\n",
      "1770/1770 [==============================] - 313s 177ms/step - loss: 0.0190 - accuracy: 0.9952 - val_loss: 1.0100 - val_accuracy: 0.8489 - lr: 0.0050\n",
      "Epoch 23/100\n",
      "1770/1770 [==============================] - ETA: 0s - loss: 0.0182 - accuracy: 0.9955\n",
      "Epoch 23: val_accuracy did not improve from 0.85492\n",
      "\n",
      "Epoch 23: ReduceLROnPlateau reducing learning rate to 0.0024999999441206455.\n",
      "1770/1770 [==============================] - 315s 178ms/step - loss: 0.0182 - accuracy: 0.9955 - val_loss: 1.0079 - val_accuracy: 0.8541 - lr: 0.0050\n",
      "Epoch 24/100\n",
      "1770/1770 [==============================] - ETA: 0s - loss: 0.0110 - accuracy: 0.9971\n",
      "Epoch 24: val_accuracy did not improve from 0.85492\n",
      "1770/1770 [==============================] - 318s 180ms/step - loss: 0.0110 - accuracy: 0.9971 - val_loss: 1.0163 - val_accuracy: 0.8502 - lr: 0.0025\n",
      "Epoch 25/100\n",
      "1770/1770 [==============================] - ETA: 0s - loss: 0.0090 - accuracy: 0.9977\n",
      "Epoch 25: val_accuracy did not improve from 0.85492\n",
      "1770/1770 [==============================] - 314s 177ms/step - loss: 0.0090 - accuracy: 0.9977 - val_loss: 1.0245 - val_accuracy: 0.8516 - lr: 0.0025\n",
      "Epoch 26/100\n",
      "1770/1770 [==============================] - ETA: 0s - loss: 0.0085 - accuracy: 0.9975\n",
      "Epoch 26: val_accuracy did not improve from 0.85492\n",
      "1770/1770 [==============================] - 312s 176ms/step - loss: 0.0085 - accuracy: 0.9975 - val_loss: 1.0388 - val_accuracy: 0.8544 - lr: 0.0025\n",
      "Epoch 27/100\n",
      "1770/1770 [==============================] - ETA: 0s - loss: 0.0080 - accuracy: 0.9977\n",
      "Epoch 27: val_accuracy did not improve from 0.85492\n",
      "1770/1770 [==============================] - 311s 176ms/step - loss: 0.0080 - accuracy: 0.9977 - val_loss: 1.0666 - val_accuracy: 0.8517 - lr: 0.0025\n",
      "Epoch 28/100\n",
      "1770/1770 [==============================] - ETA: 0s - loss: 0.0081 - accuracy: 0.9975\n",
      "Epoch 28: val_accuracy did not improve from 0.85492\n",
      "\n",
      "Epoch 28: ReduceLROnPlateau reducing learning rate to 0.0012499999720603228.\n",
      "1770/1770 [==============================] - 313s 177ms/step - loss: 0.0081 - accuracy: 0.9975 - val_loss: 1.0607 - val_accuracy: 0.8511 - lr: 0.0025\n",
      "Epoch 29/100\n",
      "1770/1770 [==============================] - ETA: 0s - loss: 0.0062 - accuracy: 0.9980\n",
      "Epoch 29: val_accuracy did not improve from 0.85492\n",
      "1770/1770 [==============================] - 313s 177ms/step - loss: 0.0062 - accuracy: 0.9980 - val_loss: 1.0691 - val_accuracy: 0.8546 - lr: 0.0012\n",
      "Epoch 30/100\n",
      "1770/1770 [==============================] - ETA: 0s - loss: 0.0062 - accuracy: 0.9980\n",
      "Epoch 30: val_accuracy did not improve from 0.85492\n",
      "1770/1770 [==============================] - 313s 177ms/step - loss: 0.0062 - accuracy: 0.9980 - val_loss: 1.0807 - val_accuracy: 0.8548 - lr: 0.0012\n",
      "Epoch 31/100\n",
      "1770/1770 [==============================] - ETA: 0s - loss: 0.0062 - accuracy: 0.9980\n",
      "Epoch 31: val_accuracy did not improve from 0.85492\n",
      "1770/1770 [==============================] - 314s 177ms/step - loss: 0.0062 - accuracy: 0.9980 - val_loss: 1.0898 - val_accuracy: 0.8529 - lr: 0.0012\n",
      "Epoch 32/100\n",
      "1770/1770 [==============================] - ETA: 0s - loss: 0.0063 - accuracy: 0.9979\n",
      "Epoch 32: val_accuracy did not improve from 0.85492\n",
      "1770/1770 [==============================] - 312s 176ms/step - loss: 0.0063 - accuracy: 0.9979 - val_loss: 1.0985 - val_accuracy: 0.8544 - lr: 0.0012\n",
      "Epoch 33/100\n",
      "1770/1770 [==============================] - ETA: 0s - loss: 0.0060 - accuracy: 0.9979\n",
      "Epoch 33: val_accuracy did not improve from 0.85492\n",
      "\n",
      "Epoch 33: ReduceLROnPlateau reducing learning rate to 0.0006249999860301614.\n",
      "1770/1770 [==============================] - 314s 177ms/step - loss: 0.0060 - accuracy: 0.9979 - val_loss: 1.1175 - val_accuracy: 0.8522 - lr: 0.0012\n",
      "Epoch 34/100\n",
      " 152/1770 [=>............................] - ETA: 4:44 - loss: 0.0040 - accuracy: 0.9988"
     ]
    },
    {
     "ename": "KeyboardInterrupt",
     "evalue": "",
     "output_type": "error",
     "traceback": [
      "\u001b[1;31m---------------------------------------------------------------------------\u001b[0m",
      "\u001b[1;31mKeyboardInterrupt\u001b[0m                         Traceback (most recent call last)",
      "Cell \u001b[1;32mIn[37], line 2\u001b[0m\n\u001b[0;32m      1\u001b[0m \u001b[38;5;66;03m# Modeli eğitme\u001b[39;00m\n\u001b[1;32m----> 2\u001b[0m history \u001b[38;5;241m=\u001b[39m \u001b[43mmodel\u001b[49m\u001b[38;5;241;43m.\u001b[39;49m\u001b[43mfit\u001b[49m\u001b[43m(\u001b[49m\n\u001b[0;32m      3\u001b[0m \u001b[43m    \u001b[49m\u001b[43mx_train\u001b[49m\u001b[43m,\u001b[49m\u001b[43m \u001b[49m\u001b[43my_train\u001b[49m\u001b[43m,\u001b[49m\n\u001b[0;32m      4\u001b[0m \u001b[43m    \u001b[49m\u001b[43mepochs\u001b[49m\u001b[38;5;241;43m=\u001b[39;49m\u001b[38;5;241;43m100\u001b[39;49m\u001b[43m,\u001b[49m\n\u001b[0;32m      5\u001b[0m \u001b[43m    \u001b[49m\u001b[43mvalidation_data\u001b[49m\u001b[38;5;241;43m=\u001b[39;49m\u001b[43m(\u001b[49m\u001b[43mx_test\u001b[49m\u001b[43m,\u001b[49m\u001b[43m \u001b[49m\u001b[43my_test\u001b[49m\u001b[43m)\u001b[49m\u001b[43m,\u001b[49m\n\u001b[0;32m      6\u001b[0m \u001b[43m    \u001b[49m\u001b[43mcallbacks\u001b[49m\u001b[38;5;241;43m=\u001b[39;49m\u001b[43m[\u001b[49m\u001b[43mcheckpoint\u001b[49m\u001b[43m,\u001b[49m\u001b[43mreduce_lr\u001b[49m\u001b[43m]\u001b[49m\u001b[43m  \u001b[49m\u001b[38;5;66;43;03m# ModelCheckpoint'i callback olarak ekle\u001b[39;49;00m\n\u001b[0;32m      7\u001b[0m \u001b[43m)\u001b[49m\n",
      "File \u001b[1;32m~\\anaconda3\\lib\\site-packages\\keras\\utils\\traceback_utils.py:65\u001b[0m, in \u001b[0;36mfilter_traceback.<locals>.error_handler\u001b[1;34m(*args, **kwargs)\u001b[0m\n\u001b[0;32m     63\u001b[0m filtered_tb \u001b[38;5;241m=\u001b[39m \u001b[38;5;28;01mNone\u001b[39;00m\n\u001b[0;32m     64\u001b[0m \u001b[38;5;28;01mtry\u001b[39;00m:\n\u001b[1;32m---> 65\u001b[0m     \u001b[38;5;28;01mreturn\u001b[39;00m fn(\u001b[38;5;241m*\u001b[39margs, \u001b[38;5;241m*\u001b[39m\u001b[38;5;241m*\u001b[39mkwargs)\n\u001b[0;32m     66\u001b[0m \u001b[38;5;28;01mexcept\u001b[39;00m \u001b[38;5;167;01mException\u001b[39;00m \u001b[38;5;28;01mas\u001b[39;00m e:\n\u001b[0;32m     67\u001b[0m     filtered_tb \u001b[38;5;241m=\u001b[39m _process_traceback_frames(e\u001b[38;5;241m.\u001b[39m__traceback__)\n",
      "File \u001b[1;32m~\\anaconda3\\lib\\site-packages\\keras\\engine\\training.py:1685\u001b[0m, in \u001b[0;36mModel.fit\u001b[1;34m(self, x, y, batch_size, epochs, verbose, callbacks, validation_split, validation_data, shuffle, class_weight, sample_weight, initial_epoch, steps_per_epoch, validation_steps, validation_batch_size, validation_freq, max_queue_size, workers, use_multiprocessing)\u001b[0m\n\u001b[0;32m   1677\u001b[0m \u001b[38;5;28;01mwith\u001b[39;00m tf\u001b[38;5;241m.\u001b[39mprofiler\u001b[38;5;241m.\u001b[39mexperimental\u001b[38;5;241m.\u001b[39mTrace(\n\u001b[0;32m   1678\u001b[0m     \u001b[38;5;124m\"\u001b[39m\u001b[38;5;124mtrain\u001b[39m\u001b[38;5;124m\"\u001b[39m,\n\u001b[0;32m   1679\u001b[0m     epoch_num\u001b[38;5;241m=\u001b[39mepoch,\n\u001b[1;32m   (...)\u001b[0m\n\u001b[0;32m   1682\u001b[0m     _r\u001b[38;5;241m=\u001b[39m\u001b[38;5;241m1\u001b[39m,\n\u001b[0;32m   1683\u001b[0m ):\n\u001b[0;32m   1684\u001b[0m     callbacks\u001b[38;5;241m.\u001b[39mon_train_batch_begin(step)\n\u001b[1;32m-> 1685\u001b[0m     tmp_logs \u001b[38;5;241m=\u001b[39m \u001b[38;5;28;43mself\u001b[39;49m\u001b[38;5;241;43m.\u001b[39;49m\u001b[43mtrain_function\u001b[49m\u001b[43m(\u001b[49m\u001b[43miterator\u001b[49m\u001b[43m)\u001b[49m\n\u001b[0;32m   1686\u001b[0m     \u001b[38;5;28;01mif\u001b[39;00m data_handler\u001b[38;5;241m.\u001b[39mshould_sync:\n\u001b[0;32m   1687\u001b[0m         context\u001b[38;5;241m.\u001b[39masync_wait()\n",
      "File \u001b[1;32m~\\anaconda3\\lib\\site-packages\\tensorflow\\python\\util\\traceback_utils.py:150\u001b[0m, in \u001b[0;36mfilter_traceback.<locals>.error_handler\u001b[1;34m(*args, **kwargs)\u001b[0m\n\u001b[0;32m    148\u001b[0m filtered_tb \u001b[38;5;241m=\u001b[39m \u001b[38;5;28;01mNone\u001b[39;00m\n\u001b[0;32m    149\u001b[0m \u001b[38;5;28;01mtry\u001b[39;00m:\n\u001b[1;32m--> 150\u001b[0m   \u001b[38;5;28;01mreturn\u001b[39;00m fn(\u001b[38;5;241m*\u001b[39margs, \u001b[38;5;241m*\u001b[39m\u001b[38;5;241m*\u001b[39mkwargs)\n\u001b[0;32m    151\u001b[0m \u001b[38;5;28;01mexcept\u001b[39;00m \u001b[38;5;167;01mException\u001b[39;00m \u001b[38;5;28;01mas\u001b[39;00m e:\n\u001b[0;32m    152\u001b[0m   filtered_tb \u001b[38;5;241m=\u001b[39m _process_traceback_frames(e\u001b[38;5;241m.\u001b[39m__traceback__)\n",
      "File \u001b[1;32m~\\anaconda3\\lib\\site-packages\\tensorflow\\python\\eager\\polymorphic_function\\polymorphic_function.py:894\u001b[0m, in \u001b[0;36mFunction.__call__\u001b[1;34m(self, *args, **kwds)\u001b[0m\n\u001b[0;32m    891\u001b[0m compiler \u001b[38;5;241m=\u001b[39m \u001b[38;5;124m\"\u001b[39m\u001b[38;5;124mxla\u001b[39m\u001b[38;5;124m\"\u001b[39m \u001b[38;5;28;01mif\u001b[39;00m \u001b[38;5;28mself\u001b[39m\u001b[38;5;241m.\u001b[39m_jit_compile \u001b[38;5;28;01melse\u001b[39;00m \u001b[38;5;124m\"\u001b[39m\u001b[38;5;124mnonXla\u001b[39m\u001b[38;5;124m\"\u001b[39m\n\u001b[0;32m    893\u001b[0m \u001b[38;5;28;01mwith\u001b[39;00m OptionalXlaContext(\u001b[38;5;28mself\u001b[39m\u001b[38;5;241m.\u001b[39m_jit_compile):\n\u001b[1;32m--> 894\u001b[0m   result \u001b[38;5;241m=\u001b[39m \u001b[38;5;28mself\u001b[39m\u001b[38;5;241m.\u001b[39m_call(\u001b[38;5;241m*\u001b[39margs, \u001b[38;5;241m*\u001b[39m\u001b[38;5;241m*\u001b[39mkwds)\n\u001b[0;32m    896\u001b[0m new_tracing_count \u001b[38;5;241m=\u001b[39m \u001b[38;5;28mself\u001b[39m\u001b[38;5;241m.\u001b[39mexperimental_get_tracing_count()\n\u001b[0;32m    897\u001b[0m without_tracing \u001b[38;5;241m=\u001b[39m (tracing_count \u001b[38;5;241m==\u001b[39m new_tracing_count)\n",
      "File \u001b[1;32m~\\anaconda3\\lib\\site-packages\\tensorflow\\python\\eager\\polymorphic_function\\polymorphic_function.py:926\u001b[0m, in \u001b[0;36mFunction._call\u001b[1;34m(self, *args, **kwds)\u001b[0m\n\u001b[0;32m    923\u001b[0m   \u001b[38;5;28mself\u001b[39m\u001b[38;5;241m.\u001b[39m_lock\u001b[38;5;241m.\u001b[39mrelease()\n\u001b[0;32m    924\u001b[0m   \u001b[38;5;66;03m# In this case we have created variables on the first call, so we run the\u001b[39;00m\n\u001b[0;32m    925\u001b[0m   \u001b[38;5;66;03m# defunned version which is guaranteed to never create variables.\u001b[39;00m\n\u001b[1;32m--> 926\u001b[0m   \u001b[38;5;28;01mreturn\u001b[39;00m \u001b[38;5;28mself\u001b[39m\u001b[38;5;241m.\u001b[39m_no_variable_creation_fn(\u001b[38;5;241m*\u001b[39margs, \u001b[38;5;241m*\u001b[39m\u001b[38;5;241m*\u001b[39mkwds)  \u001b[38;5;66;03m# pylint: disable=not-callable\u001b[39;00m\n\u001b[0;32m    927\u001b[0m \u001b[38;5;28;01melif\u001b[39;00m \u001b[38;5;28mself\u001b[39m\u001b[38;5;241m.\u001b[39m_variable_creation_fn \u001b[38;5;129;01mis\u001b[39;00m \u001b[38;5;129;01mnot\u001b[39;00m \u001b[38;5;28;01mNone\u001b[39;00m:\n\u001b[0;32m    928\u001b[0m   \u001b[38;5;66;03m# Release the lock early so that multiple threads can perform the call\u001b[39;00m\n\u001b[0;32m    929\u001b[0m   \u001b[38;5;66;03m# in parallel.\u001b[39;00m\n\u001b[0;32m    930\u001b[0m   \u001b[38;5;28mself\u001b[39m\u001b[38;5;241m.\u001b[39m_lock\u001b[38;5;241m.\u001b[39mrelease()\n",
      "File \u001b[1;32m~\\anaconda3\\lib\\site-packages\\tensorflow\\python\\eager\\polymorphic_function\\tracing_compiler.py:143\u001b[0m, in \u001b[0;36mTracingCompiler.__call__\u001b[1;34m(self, *args, **kwargs)\u001b[0m\n\u001b[0;32m    140\u001b[0m \u001b[38;5;28;01mwith\u001b[39;00m \u001b[38;5;28mself\u001b[39m\u001b[38;5;241m.\u001b[39m_lock:\n\u001b[0;32m    141\u001b[0m   (concrete_function,\n\u001b[0;32m    142\u001b[0m    filtered_flat_args) \u001b[38;5;241m=\u001b[39m \u001b[38;5;28mself\u001b[39m\u001b[38;5;241m.\u001b[39m_maybe_define_function(args, kwargs)\n\u001b[1;32m--> 143\u001b[0m \u001b[38;5;28;01mreturn\u001b[39;00m \u001b[43mconcrete_function\u001b[49m\u001b[38;5;241;43m.\u001b[39;49m\u001b[43m_call_flat\u001b[49m\u001b[43m(\u001b[49m\n\u001b[0;32m    144\u001b[0m \u001b[43m    \u001b[49m\u001b[43mfiltered_flat_args\u001b[49m\u001b[43m,\u001b[49m\u001b[43m \u001b[49m\u001b[43mcaptured_inputs\u001b[49m\u001b[38;5;241;43m=\u001b[39;49m\u001b[43mconcrete_function\u001b[49m\u001b[38;5;241;43m.\u001b[39;49m\u001b[43mcaptured_inputs\u001b[49m\u001b[43m)\u001b[49m\n",
      "File \u001b[1;32m~\\anaconda3\\lib\\site-packages\\tensorflow\\python\\eager\\polymorphic_function\\monomorphic_function.py:1757\u001b[0m, in \u001b[0;36mConcreteFunction._call_flat\u001b[1;34m(self, args, captured_inputs, cancellation_manager)\u001b[0m\n\u001b[0;32m   1753\u001b[0m possible_gradient_type \u001b[38;5;241m=\u001b[39m gradients_util\u001b[38;5;241m.\u001b[39mPossibleTapeGradientTypes(args)\n\u001b[0;32m   1754\u001b[0m \u001b[38;5;28;01mif\u001b[39;00m (possible_gradient_type \u001b[38;5;241m==\u001b[39m gradients_util\u001b[38;5;241m.\u001b[39mPOSSIBLE_GRADIENT_TYPES_NONE\n\u001b[0;32m   1755\u001b[0m     \u001b[38;5;129;01mand\u001b[39;00m executing_eagerly):\n\u001b[0;32m   1756\u001b[0m   \u001b[38;5;66;03m# No tape is watching; skip to running the function.\u001b[39;00m\n\u001b[1;32m-> 1757\u001b[0m   \u001b[38;5;28;01mreturn\u001b[39;00m \u001b[38;5;28mself\u001b[39m\u001b[38;5;241m.\u001b[39m_build_call_outputs(\u001b[38;5;28;43mself\u001b[39;49m\u001b[38;5;241;43m.\u001b[39;49m\u001b[43m_inference_function\u001b[49m\u001b[38;5;241;43m.\u001b[39;49m\u001b[43mcall\u001b[49m\u001b[43m(\u001b[49m\n\u001b[0;32m   1758\u001b[0m \u001b[43m      \u001b[49m\u001b[43mctx\u001b[49m\u001b[43m,\u001b[49m\u001b[43m \u001b[49m\u001b[43margs\u001b[49m\u001b[43m,\u001b[49m\u001b[43m \u001b[49m\u001b[43mcancellation_manager\u001b[49m\u001b[38;5;241;43m=\u001b[39;49m\u001b[43mcancellation_manager\u001b[49m\u001b[43m)\u001b[49m)\n\u001b[0;32m   1759\u001b[0m forward_backward \u001b[38;5;241m=\u001b[39m \u001b[38;5;28mself\u001b[39m\u001b[38;5;241m.\u001b[39m_select_forward_and_backward_functions(\n\u001b[0;32m   1760\u001b[0m     args,\n\u001b[0;32m   1761\u001b[0m     possible_gradient_type,\n\u001b[0;32m   1762\u001b[0m     executing_eagerly)\n\u001b[0;32m   1763\u001b[0m forward_function, args_with_tangents \u001b[38;5;241m=\u001b[39m forward_backward\u001b[38;5;241m.\u001b[39mforward()\n",
      "File \u001b[1;32m~\\anaconda3\\lib\\site-packages\\tensorflow\\python\\eager\\polymorphic_function\\monomorphic_function.py:381\u001b[0m, in \u001b[0;36m_EagerDefinedFunction.call\u001b[1;34m(self, ctx, args, cancellation_manager)\u001b[0m\n\u001b[0;32m    379\u001b[0m \u001b[38;5;28;01mwith\u001b[39;00m _InterpolateFunctionError(\u001b[38;5;28mself\u001b[39m):\n\u001b[0;32m    380\u001b[0m   \u001b[38;5;28;01mif\u001b[39;00m cancellation_manager \u001b[38;5;129;01mis\u001b[39;00m \u001b[38;5;28;01mNone\u001b[39;00m:\n\u001b[1;32m--> 381\u001b[0m     outputs \u001b[38;5;241m=\u001b[39m \u001b[43mexecute\u001b[49m\u001b[38;5;241;43m.\u001b[39;49m\u001b[43mexecute\u001b[49m\u001b[43m(\u001b[49m\n\u001b[0;32m    382\u001b[0m \u001b[43m        \u001b[49m\u001b[38;5;28;43mstr\u001b[39;49m\u001b[43m(\u001b[49m\u001b[38;5;28;43mself\u001b[39;49m\u001b[38;5;241;43m.\u001b[39;49m\u001b[43msignature\u001b[49m\u001b[38;5;241;43m.\u001b[39;49m\u001b[43mname\u001b[49m\u001b[43m)\u001b[49m\u001b[43m,\u001b[49m\n\u001b[0;32m    383\u001b[0m \u001b[43m        \u001b[49m\u001b[43mnum_outputs\u001b[49m\u001b[38;5;241;43m=\u001b[39;49m\u001b[38;5;28;43mself\u001b[39;49m\u001b[38;5;241;43m.\u001b[39;49m\u001b[43m_num_outputs\u001b[49m\u001b[43m,\u001b[49m\n\u001b[0;32m    384\u001b[0m \u001b[43m        \u001b[49m\u001b[43minputs\u001b[49m\u001b[38;5;241;43m=\u001b[39;49m\u001b[43margs\u001b[49m\u001b[43m,\u001b[49m\n\u001b[0;32m    385\u001b[0m \u001b[43m        \u001b[49m\u001b[43mattrs\u001b[49m\u001b[38;5;241;43m=\u001b[39;49m\u001b[43mattrs\u001b[49m\u001b[43m,\u001b[49m\n\u001b[0;32m    386\u001b[0m \u001b[43m        \u001b[49m\u001b[43mctx\u001b[49m\u001b[38;5;241;43m=\u001b[39;49m\u001b[43mctx\u001b[49m\u001b[43m)\u001b[49m\n\u001b[0;32m    387\u001b[0m   \u001b[38;5;28;01melse\u001b[39;00m:\n\u001b[0;32m    388\u001b[0m     outputs \u001b[38;5;241m=\u001b[39m execute\u001b[38;5;241m.\u001b[39mexecute_with_cancellation(\n\u001b[0;32m    389\u001b[0m         \u001b[38;5;28mstr\u001b[39m(\u001b[38;5;28mself\u001b[39m\u001b[38;5;241m.\u001b[39msignature\u001b[38;5;241m.\u001b[39mname),\n\u001b[0;32m    390\u001b[0m         num_outputs\u001b[38;5;241m=\u001b[39m\u001b[38;5;28mself\u001b[39m\u001b[38;5;241m.\u001b[39m_num_outputs,\n\u001b[1;32m   (...)\u001b[0m\n\u001b[0;32m    393\u001b[0m         ctx\u001b[38;5;241m=\u001b[39mctx,\n\u001b[0;32m    394\u001b[0m         cancellation_manager\u001b[38;5;241m=\u001b[39mcancellation_manager)\n",
      "File \u001b[1;32m~\\anaconda3\\lib\\site-packages\\tensorflow\\python\\eager\\execute.py:52\u001b[0m, in \u001b[0;36mquick_execute\u001b[1;34m(op_name, num_outputs, inputs, attrs, ctx, name)\u001b[0m\n\u001b[0;32m     50\u001b[0m \u001b[38;5;28;01mtry\u001b[39;00m:\n\u001b[0;32m     51\u001b[0m   ctx\u001b[38;5;241m.\u001b[39mensure_initialized()\n\u001b[1;32m---> 52\u001b[0m   tensors \u001b[38;5;241m=\u001b[39m \u001b[43mpywrap_tfe\u001b[49m\u001b[38;5;241;43m.\u001b[39;49m\u001b[43mTFE_Py_Execute\u001b[49m\u001b[43m(\u001b[49m\u001b[43mctx\u001b[49m\u001b[38;5;241;43m.\u001b[39;49m\u001b[43m_handle\u001b[49m\u001b[43m,\u001b[49m\u001b[43m \u001b[49m\u001b[43mdevice_name\u001b[49m\u001b[43m,\u001b[49m\u001b[43m \u001b[49m\u001b[43mop_name\u001b[49m\u001b[43m,\u001b[49m\n\u001b[0;32m     53\u001b[0m \u001b[43m                                      \u001b[49m\u001b[43minputs\u001b[49m\u001b[43m,\u001b[49m\u001b[43m \u001b[49m\u001b[43mattrs\u001b[49m\u001b[43m,\u001b[49m\u001b[43m \u001b[49m\u001b[43mnum_outputs\u001b[49m\u001b[43m)\u001b[49m\n\u001b[0;32m     54\u001b[0m \u001b[38;5;28;01mexcept\u001b[39;00m core\u001b[38;5;241m.\u001b[39m_NotOkStatusException \u001b[38;5;28;01mas\u001b[39;00m e:\n\u001b[0;32m     55\u001b[0m   \u001b[38;5;28;01mif\u001b[39;00m name \u001b[38;5;129;01mis\u001b[39;00m \u001b[38;5;129;01mnot\u001b[39;00m \u001b[38;5;28;01mNone\u001b[39;00m:\n",
      "\u001b[1;31mKeyboardInterrupt\u001b[0m: "
     ]
    }
   ],
   "source": [
    "# Modeli eğitme\n",
    "history = model.fit(\n",
    "    x_train, y_train,\n",
    "    epochs=100,\n",
    "    validation_data=(x_test, y_test),\n",
    "    callbacks=[checkpoint,reduce_lr]  # ModelCheckpoint'i callback olarak ekle\n",
    ")"
   ]
  },
  {
   "cell_type": "code",
   "execution_count": 39,
   "id": "29b4dfcf",
   "metadata": {
    "papermill": {
     "duration": 3.407742,
     "end_time": "2023-02-27T07:38:43.634784",
     "exception": false,
     "start_time": "2023-02-27T07:38:40.227042",
     "status": "completed"
    },
    "tags": []
   },
   "outputs": [
    {
     "name": "stdout",
     "output_type": "stream",
     "text": [
      "197/197 [==============================] - 8s 41ms/step - loss: 1.1209 - accuracy: 0.8529\n",
      "Accuracy of our model on validation data :  85.28524041175842 %\n"
     ]
    }
   ],
   "source": [
    "print(\"Accuracy of our model on validation data : \" , model.evaluate(x_test,y_test)[1]*100 , \"%\")"
   ]
  },
  {
   "cell_type": "code",
   "execution_count": 85,
   "id": "a0238c68",
   "metadata": {
    "papermill": {
     "duration": 2.483001,
     "end_time": "2023-02-27T07:38:48.946125",
     "exception": false,
     "start_time": "2023-02-27T07:38:46.463124",
     "status": "completed"
    },
    "tags": []
   },
   "outputs": [
    {
     "ename": "NameError",
     "evalue": "name 'history' is not defined",
     "output_type": "error",
     "traceback": [
      "\u001b[1;31m---------------------------------------------------------------------------\u001b[0m",
      "\u001b[1;31mNameError\u001b[0m                                 Traceback (most recent call last)",
      "Cell \u001b[1;32mIn[85], line 2\u001b[0m\n\u001b[0;32m      1\u001b[0m cm \u001b[38;5;241m=\u001b[39m plt\u001b[38;5;241m.\u001b[39mfigure(figsize \u001b[38;5;241m=\u001b[39m (\u001b[38;5;241m4\u001b[39m,\u001b[38;5;241m4\u001b[39m))\n\u001b[1;32m----> 2\u001b[0m plt\u001b[38;5;241m.\u001b[39mplot(\u001b[43mhistory\u001b[49m\u001b[38;5;241m.\u001b[39mhistory[\u001b[38;5;124m'\u001b[39m\u001b[38;5;124maccuracy\u001b[39m\u001b[38;5;124m'\u001b[39m])\n\u001b[0;32m      3\u001b[0m plt\u001b[38;5;241m.\u001b[39mplot(history\u001b[38;5;241m.\u001b[39mhistory[\u001b[38;5;124m'\u001b[39m\u001b[38;5;124mval_accuracy\u001b[39m\u001b[38;5;124m'\u001b[39m])\n\u001b[0;32m      4\u001b[0m plt\u001b[38;5;241m.\u001b[39mtitle(\u001b[38;5;124m'\u001b[39m\u001b[38;5;124mmodel accuracy\u001b[39m\u001b[38;5;124m'\u001b[39m)\n",
      "\u001b[1;31mNameError\u001b[0m: name 'history' is not defined"
     ]
    },
    {
     "data": {
      "text/plain": [
       "<Figure size 400x400 with 0 Axes>"
      ]
     },
     "metadata": {},
     "output_type": "display_data"
    }
   ],
   "source": [
    "\n",
    "cm = plt.figure(figsize = (4,4))\n",
    "plt.plot(history.history['accuracy'])\n",
    "plt.plot(history.history['val_accuracy'])\n",
    "plt.title('model accuracy')\n",
    "plt.ylabel('accuracy')\n",
    "plt.xlabel('epoch')\n",
    "plt.legend(['train', 'test'], loc='upper left')\n",
    "cm.savefig(\"model_acc\")\n",
    "plt.show()"
   ]
  },
  {
   "cell_type": "code",
   "execution_count": 87,
   "id": "352d8298",
   "metadata": {
    "papermill": {
     "duration": 2.427007,
     "end_time": "2023-02-27T07:38:53.532434",
     "exception": false,
     "start_time": "2023-02-27T07:38:51.105427",
     "status": "completed"
    },
    "tags": []
   },
   "outputs": [
    {
     "ename": "NameError",
     "evalue": "name 'history' is not defined",
     "output_type": "error",
     "traceback": [
      "\u001b[1;31m---------------------------------------------------------------------------\u001b[0m",
      "\u001b[1;31mNameError\u001b[0m                                 Traceback (most recent call last)",
      "Cell \u001b[1;32mIn[87], line 3\u001b[0m\n\u001b[0;32m      1\u001b[0m \u001b[38;5;66;03m# summarize history for loss\u001b[39;00m\n\u001b[0;32m      2\u001b[0m cm \u001b[38;5;241m=\u001b[39m plt\u001b[38;5;241m.\u001b[39mfigure(figsize \u001b[38;5;241m=\u001b[39m (\u001b[38;5;241m4\u001b[39m,\u001b[38;5;241m4\u001b[39m))\n\u001b[1;32m----> 3\u001b[0m plt\u001b[38;5;241m.\u001b[39mplot(\u001b[43mhistory\u001b[49m\u001b[38;5;241m.\u001b[39mhistory[\u001b[38;5;124m'\u001b[39m\u001b[38;5;124mloss\u001b[39m\u001b[38;5;124m'\u001b[39m])\n\u001b[0;32m      4\u001b[0m plt\u001b[38;5;241m.\u001b[39mplot(history\u001b[38;5;241m.\u001b[39mhistory[\u001b[38;5;124m'\u001b[39m\u001b[38;5;124mval_loss\u001b[39m\u001b[38;5;124m'\u001b[39m])\n\u001b[0;32m      5\u001b[0m plt\u001b[38;5;241m.\u001b[39mtitle(\u001b[38;5;124m'\u001b[39m\u001b[38;5;124mmodel loss\u001b[39m\u001b[38;5;124m'\u001b[39m)\n",
      "\u001b[1;31mNameError\u001b[0m: name 'history' is not defined"
     ]
    },
    {
     "data": {
      "text/plain": [
       "<Figure size 400x400 with 0 Axes>"
      ]
     },
     "metadata": {},
     "output_type": "display_data"
    }
   ],
   "source": [
    "# summarize history for loss\n",
    "cm = plt.figure(figsize = (4,4))\n",
    "plt.plot(history.history['loss'])\n",
    "plt.plot(history.history['val_loss'])\n",
    "plt.title('model loss')\n",
    "plt.ylabel('loss')\n",
    "plt.xlabel('epoch')\n",
    "plt.legend(['train', 'test'], loc='upper left')\n",
    "cm.savefig(\"model_loss\")\n",
    "plt.show()"
   ]
  },
  {
   "cell_type": "code",
   "execution_count": 89,
   "id": "502b9de8",
   "metadata": {
    "papermill": {
     "duration": 4.236875,
     "end_time": "2023-02-27T07:39:00.089418",
     "exception": false,
     "start_time": "2023-02-27T07:38:55.852543",
     "status": "completed"
    },
    "tags": []
   },
   "outputs": [
    {
     "name": "stdout",
     "output_type": "stream",
     "text": [
      "197/197 [==============================] - 14s 46ms/step\n"
     ]
    },
    {
     "data": {
      "text/plain": [
       "[6, 5, 0, 6, 1, 0, 6, 4, 1, 6]"
      ]
     },
     "execution_count": 89,
     "metadata": {},
     "output_type": "execute_result"
    }
   ],
   "source": [
    "y_pred = model.predict(x_test)\n",
    "y_result = []\n",
    "\n",
    "for pred in y_pred:\n",
    "    y_result.append(np.argmax(pred))\n",
    "y_result[:10]"
   ]
  },
  {
   "cell_type": "code",
   "execution_count": 90,
   "id": "5f3d04c8",
   "metadata": {
    "papermill": {
     "duration": 2.146658,
     "end_time": "2023-02-27T07:39:04.385770",
     "exception": false,
     "start_time": "2023-02-27T07:39:02.239112",
     "status": "completed"
    },
    "tags": []
   },
   "outputs": [
    {
     "data": {
      "text/plain": [
       "[6, 5, 5, 6, 1, 0, 3, 4, 1, 3]"
      ]
     },
     "execution_count": 90,
     "metadata": {},
     "output_type": "execute_result"
    }
   ],
   "source": [
    "y_actual = []\n",
    "\n",
    "for pred in y_test:\n",
    "    y_actual.append(np.argmax(pred))\n",
    "y_actual[:10]"
   ]
  },
  {
   "cell_type": "code",
   "execution_count": 91,
   "id": "b4149fd5",
   "metadata": {
    "papermill": {
     "duration": 2.199839,
     "end_time": "2023-02-27T07:39:08.925851",
     "exception": false,
     "start_time": "2023-02-27T07:39:06.726012",
     "status": "completed"
    },
    "tags": []
   },
   "outputs": [
    {
     "name": "stdout",
     "output_type": "stream",
     "text": [
      "              precision    recall  f1-score   support\n",
      "\n",
      "           0       0.79      0.84      0.82       935\n",
      "           1       0.98      1.00      0.99       895\n",
      "           2       0.84      0.76      0.80       880\n",
      "           3       0.82      0.81      0.82       906\n",
      "           4       0.79      0.68      0.73       888\n",
      "           5       0.86      0.97      0.91       869\n",
      "           6       0.77      0.80      0.78       920\n",
      "\n",
      "    accuracy                           0.84      6293\n",
      "   macro avg       0.84      0.84      0.84      6293\n",
      "weighted avg       0.84      0.84      0.84      6293\n",
      "\n"
     ]
    }
   ],
   "source": [
    "from sklearn.metrics import confusion_matrix, classification_report\n",
    "print(classification_report(y_actual, y_result))"
   ]
  },
  {
   "cell_type": "code",
   "execution_count": 92,
   "id": "7990636c",
   "metadata": {
    "papermill": {
     "duration": 2.895523,
     "end_time": "2023-02-27T07:39:13.965613",
     "exception": false,
     "start_time": "2023-02-27T07:39:11.070090",
     "status": "completed"
    },
    "tags": []
   },
   "outputs": [
    {
     "data": {
      "image/png": "[encoded data removed]",
      "text/plain": [
       "<Figure size 400x400 with 2 Axes>"
      ]
     },
     "metadata": {},
     "output_type": "display_data"
    }
   ],
   "source": [
    "# import seaborn as sn\n",
    "# cm = tf.math.confusion_matrix(labels = y_actual, predictions = y_result)\n",
    "\n",
    "# plt.figure(figsize = (6,4))\n",
    "# sn.heatmap(cm,cmap=\"Purples\", annot = True, fmt = 'd')\n",
    "# plt.xlabel('Predicted')\n",
    "# plt.ylabel('Truth')\n",
    "# plt.savefig(\"confusion\")\n",
    "\n",
    "import seaborn as sn\n",
    "cm = tf.math.confusion_matrix(labels = y_actual, predictions = y_result)\n",
    "\n",
    "plt.figure(figsize = (4,4))\n",
    "ax = plt.axes()\n",
    "sn.heatmap(cm,cmap=\"Blues\", annot = True, fmt = 'd')\n",
    "ax.xaxis.set_ticklabels([  \"Anger\", \"Sadness\", \"Fear\", \"Disgust\", \"Neutral\",\"Happy\",\"Surprise\"], fontsize=6);\n",
    "ax.yaxis.set_ticklabels([  \"Anger\", \"Sadness\", \"Fear\", \"Disgust\", \"Neutral\",\"Happy\",\"Surprise\"],  fontsize=6);\n",
    "\n",
    "plt.title('Confusion matrix using CNN And LSTM ', fontsize = 8, fontweight=500)\n",
    "plt.xlabel('Predicted')\n",
    "plt.ylabel('Truth')\n",
    "\n",
    "\n",
    "plt.savefig(\"confusion\")"
   ]
  },
  {
   "cell_type": "code",
   "execution_count": null,
   "id": "022f2fff-2484-48d0-a898-6240a6d0feda",
   "metadata": {},
   "outputs": [],
   "source": []
  }
 ],
 "metadata": {
  "kernelspec": {
   "display_name": "Python [conda env:base] *",
   "language": "python",
   "name": "conda-base-py"
  },
  "language_info": {
   "codemirror_mode": {
    "name": "ipython",
    "version": 3
   },
   "file_extension": ".py",
   "mimetype": "text/x-python",
   "name": "python",
   "nbconvert_exporter": "python",
   "pygments_lexer": "ipython3",
   "version": "3.12.7"
  },
  "papermill": {
   "default_parameters": {},
   "duration": 2331.353513,
   "end_time": "2023-02-27T07:39:19.167857",
   "environment_variables": {},
   "exception": null,
   "input_path": "__notebook__.ipynb",
   "output_path": "__notebook__.ipynb",
   "parameters": {},
   "start_time": "2023-02-27T07:00:27.814344",
   "version": "2.4.0"
  }
 },
 "nbformat": 4,
 "nbformat_minor": 5
}
